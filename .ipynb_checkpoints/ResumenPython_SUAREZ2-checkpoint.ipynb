{
 "cells": [
  {
   "cell_type": "markdown",
   "metadata": {},
   "source": [
    "## José Luis Suárez de Alba"
   ]
  },
  {
   "cell_type": "code",
   "execution_count": 1,
   "metadata": {
    "collapsed": false
   },
   "outputs": [
    {
     "name": "stdout",
     "output_type": "stream",
     "text": [
      "¡Hola! Python!\n"
     ]
    }
   ],
   "source": [
    "print (\"¡Hola! Python!\")"
   ]
  },
  {
   "cell_type": "markdown",
   "metadata": {},
   "source": [
    "### Identificadores de Python"
   ]
  },
  {
   "cell_type": "markdown",
   "metadata": {},
   "source": [
    "Un identificador de Python es un nombre usado para identificar una variable, función, clase, modulo u otro objeto. Python no permite usar caracterés de puntuación como @, $, %."
   ]
  },
  {
   "cell_type": "markdown",
   "metadata": {},
   "source": [
    "### Palabras reservadas"
   ]
  },
  {
   "cell_type": "markdown",
   "metadata": {},
   "source": [
    "Existen palabras reservadas y no las puedes usar como constantes o variables u otro identificador. Y estas son:"
   ]
  },
  {
   "cell_type": "markdown",
   "metadata": {},
   "source": [
    "|Reservadas|Reservadas|Reservadas|\n",
    "|-|-|-|\n",
    "|and|exec|not|\n",
    "|ass|finally|or|\n",
    "|break|for|pass|\n",
    "|class|from|print|\n",
    "|continue|global|raise|\n",
    "|def|if|return|\n",
    "|del|import|try|\n",
    "|elif|in|while|\n",
    "|else|is|with|\n",
    "|except|lambda|yield|"
   ]
  },
  {
   "cell_type": "markdown",
   "metadata": {},
   "source": [
    "### Líneas e identación"
   ]
  },
  {
   "cell_type": "markdown",
   "metadata": {},
   "source": [
    "El uso de la identación es muy importante a la hora de programar."
   ]
  },
  {
   "cell_type": "code",
   "execution_count": 3,
   "metadata": {
    "collapsed": false
   },
   "outputs": [
    {
     "name": "stdout",
     "output_type": "stream",
     "text": [
      "¿Cuánto es 2 + 2?\n",
      "5\n",
      "La respuesta es incorrecta.\n"
     ]
    }
   ],
   "source": [
    "print (\"¿Cuánto es 2 + 2?\")\n",
    "respuesta = int(input())\n",
    "if respuesta == 4:\n",
    "    print (\"La respuesta es correcta.\")\n",
    "else:\n",
    "    print (\"La respuesta es incorrecta.\")"
   ]
  },
  {
   "cell_type": "code",
   "execution_count": 4,
   "metadata": {
    "collapsed": false
   },
   "outputs": [
    {
     "ename": "IndentationError",
     "evalue": "expected an indented block (<ipython-input-4-0f8d6e896fe3>, line 4)",
     "output_type": "error",
     "traceback": [
      "\u001b[0;36m  File \u001b[0;32m\"<ipython-input-4-0f8d6e896fe3>\"\u001b[0;36m, line \u001b[0;32m4\u001b[0m\n\u001b[0;31m    print (\"La respuesta es correcta.\")\u001b[0m\n\u001b[0m        ^\u001b[0m\n\u001b[0;31mIndentationError\u001b[0m\u001b[0;31m:\u001b[0m expected an indented block\n"
     ]
    }
   ],
   "source": [
    "print (\"¿Cuánto es 2 + 2?\")\n",
    "respuesta = int(input())\n",
    "if respuesta == 4:\n",
    "print (\"La respuesta es correcta.\")\n",
    "else:\n",
    "print (\"La respuesta es incorrecta.\")"
   ]
  },
  {
   "cell_type": "markdown",
   "metadata": {},
   "source": [
    "Los dos códigos de arriba son iguales con la única diferencia de que el primero tiene identación y el segundo no la tiene, el primero si funciona y el segundo no, aquí podemos observar la gran importancia de identar corractamente todos nuestros programas."
   ]
  },
  {
   "cell_type": "markdown",
   "metadata": {},
   "source": [
    "### Declaraciones en línea multiple"
   ]
  },
  {
   "cell_type": "markdown",
   "metadata": {},
   "source": [
    "Las declaraciones en Python normalmente terminan en una línea. Pero si usamos \"\\\" nos permite terminar el comando en la línea de abajo."
   ]
  },
  {
   "cell_type": "code",
   "execution_count": 4,
   "metadata": {
    "collapsed": false
   },
   "outputs": [
    {
     "name": "stdout",
     "output_type": "stream",
     "text": [
      "327\n"
     ]
    }
   ],
   "source": [
    "alumnosingenieria = 34\n",
    "alumnoslicenciatura = 78\n",
    "alumnosdepreparatoria = 98\n",
    "alumnosdesecundaria = 117\n",
    "total = alumnosingenieria + \\\n",
    "        alumnoslicenciatura + \\\n",
    "        alumnosdepreparatoria + \\\n",
    "        alumnosdesecundaria\n",
    "print(total)"
   ]
  },
  {
   "cell_type": "markdown",
   "metadata": {},
   "source": [
    "Cuando usamos corchetes, llaves o parentesis no necesitamos de la diagonal invertida."
   ]
  },
  {
   "cell_type": "code",
   "execution_count": 2,
   "metadata": {
    "collapsed": false
   },
   "outputs": [
    {
     "name": "stdout",
     "output_type": "stream",
     "text": [
      "['enero', 'marzo', 'mayo', 'julio', 'agosto', 'octubre', 'diciembre']\n"
     ]
    }
   ],
   "source": [
    "mesescon31dias = [\"enero\", \"marzo\", \"mayo\",\n",
    "              \"julio\", \"agosto\", \"octubre\",\n",
    "              \"diciembre\"]\n",
    "print(mesescon31dias)"
   ]
  },
  {
   "cell_type": "markdown",
   "metadata": {},
   "source": [
    "### Comillas"
   ]
  },
  {
   "cell_type": "markdown",
   "metadata": {},
   "source": [
    "Python acepta ('), doble (\") y triple (''' or \"\"\") citas para denotar strings."
   ]
  },
  {
   "cell_type": "code",
   "execution_count": 19,
   "metadata": {
    "collapsed": false
   },
   "outputs": [
    {
     "name": "stdout",
     "output_type": "stream",
     "text": [
      "Palabra.\n",
      "oracion.\n",
      "Este es un parrafo y esta compuesto\n",
      "por varias lienas.\n"
     ]
    }
   ],
   "source": [
    "unapalabra = 'Palabra.'\n",
    "oracion = 'oracion.'\n",
    "parrafo = \"\"\"Este es un parrafo y esta compuesto\n",
    "por varias lienas.\"\"\"\n",
    "\n",
    "print(unapalabra)\n",
    "print(oracion)\n",
    "print(parrafo)"
   ]
  },
  {
   "cell_type": "markdown",
   "metadata": {},
   "source": [
    "### Comentarios en Python"
   ]
  },
  {
   "cell_type": "markdown",
   "metadata": {},
   "source": [
    "Todos los caracteres despues del simbolo # se toman como comentarios."
   ]
  },
  {
   "cell_type": "code",
   "execution_count": 23,
   "metadata": {
    "collapsed": false
   },
   "outputs": [
    {
     "name": "stdout",
     "output_type": "stream",
     "text": [
      "¿Cuánto es 2 + 2?\n",
      "4\n",
      "La respuesta es correcta.\n"
     ]
    }
   ],
   "source": [
    "# Este código sirve para saber si respondemos correctamente la suma de 2 + 2.\n",
    "print (\"¿Cuánto es 2 + 2?\") \n",
    "respuesta = int(input())\n",
    "if respuesta == 4: # Aquí ponemos la condición\n",
    "    print (\"La respuesta es correcta.\") # Aquí va el True\n",
    "else:\n",
    "    print (\"La respuesta es incorrecta.\") # Aquí va el False\n",
    "# Podemos poner la cantidad que queramos de comentarios.\n",
    "# No existe un límite."
   ]
  },
  {
   "cell_type": "markdown",
   "metadata": {},
   "source": [
    "## Uso de líneas blancas"
   ]
  },
  {
   "cell_type": "markdown",
   "metadata": {},
   "source": [
    "Si una linea esta en blanco Python la ignora automaticamente."
   ]
  },
  {
   "cell_type": "markdown",
   "metadata": {},
   "source": [
    "## Esperar al usuario"
   ]
  },
  {
   "cell_type": "code",
   "execution_count": 26,
   "metadata": {
    "collapsed": false
   },
   "outputs": [
    {
     "name": "stdout",
     "output_type": "stream",
     "text": [
      "Presiona enter para salir.\n"
     ]
    },
    {
     "data": {
      "text/plain": [
       "''"
      ]
     },
     "execution_count": 26,
     "metadata": {},
     "output_type": "execute_result"
    }
   ],
   "source": [
    "raw_input = (input)\n",
    "raw_input(\"Presiona enter para salir.\")"
   ]
  },
  {
   "cell_type": "markdown",
   "metadata": {},
   "source": [
    "## Varias declaraciones en una línea"
   ]
  },
  {
   "cell_type": "code",
   "execution_count": 28,
   "metadata": {
    "collapsed": false
   },
   "outputs": [
    {
     "name": "stdout",
     "output_type": "stream",
     "text": [
      "34\n",
      "78\n",
      "98\n",
      "117\n"
     ]
    }
   ],
   "source": [
    "alumnosingenieria = 34; alumnoslicenciatura = 78 ;alumnosdepreparatoria = 98; alumnosdesecundaria = 117\n",
    "print(alumnosingenieria)\n",
    "print(alumnoslicenciatura)\n",
    "print(alumnosdepreparatoria)\n",
    "print(alumnosdesecundaria)"
   ]
  },
  {
   "cell_type": "markdown",
   "metadata": {},
   "source": [
    "## Grupos de declaraciones multiples como paquete"
   ]
  },
  {
   "cell_type": "code",
   "execution_count": null,
   "metadata": {
    "collapsed": false
   },
   "outputs": [
    {
     "name": "stdout",
     "output_type": "stream",
     "text": [
      "¿En que universidad estudias?\n"
     ]
    }
   ],
   "source": [
    "while True:\n",
    "    print('¿En que universidad estudias?')\n",
    "    nombre = input()\n",
    "    if nombre != 'iteso':\n",
    "        continue\n",
    "    print (\"Hola. Escribe tu usuario.\")\n",
    "    usuario = input()\n",
    "    if usuario != 'if703281':\n",
    "        continue\n",
    "    print (\"Escribe tu contraseña.\")\n",
    "    contrasena = input()\n",
    "    if contrasena == '12345':\n",
    "        break\n",
    "print ('Bienvenido al sistema del ITESO.')"
   ]
  },
  {
   "cell_type": "markdown",
   "metadata": {},
   "source": [
    "## Operaciones más habituales con listas de Python."
   ]
  },
  {
   "cell_type": "code",
   "execution_count": 49,
   "metadata": {
    "collapsed": false
   },
   "outputs": [
    {
     "name": "stdout",
     "output_type": "stream",
     "text": [
      "['Hola', 40, [0, 1, 2, 3], 'simulación', 'dinosaurio']\n"
     ]
    }
   ],
   "source": [
    "# Listas con las que voy a trabajar.\n",
    "lista = ['Hola', 40, [0,1,2,3], 'simulación', \"dinosaurio\"]\n",
    "lista2 =['Pepe', 62, (3,2,1)] \n",
    "\n",
    "print(lista)\n"
   ]
  },
  {
   "cell_type": "code",
   "execution_count": 50,
   "metadata": {
    "collapsed": false
   },
   "outputs": [
    {
     "data": {
      "text/plain": [
       "'simulación'"
      ]
     },
     "execution_count": 50,
     "metadata": {},
     "output_type": "execute_result"
    }
   ],
   "source": [
    "#lista[i]: Devuelve el elemento que está en la posición i de la lista.\n",
    "lista[3]"
   ]
  },
  {
   "cell_type": "code",
   "execution_count": 51,
   "metadata": {
    "collapsed": false
   },
   "outputs": [
    {
     "name": "stdout",
     "output_type": "stream",
     "text": [
      "['Hola', 40, 'simulación', 'dinosaurio']\n"
     ]
    }
   ],
   "source": [
    "#lista.pop(i): Devuelve el elemento en la pasición i de una lista y luego lo borra.\n",
    "lista.pop(2)\n",
    "print(lista)"
   ]
  },
  {
   "cell_type": "code",
   "execution_count": 52,
   "metadata": {
    "collapsed": false
   },
   "outputs": [
    {
     "name": "stdout",
     "output_type": "stream",
     "text": [
      "['Hola', 40, 'simulación', 'dinosaurio', 'Parangaricutirimicuaro']\n"
     ]
    }
   ],
   "source": [
    "#lista.append(elemento): Añade elemento al final de la lista.\n",
    "lista.append('Parangaricutirimicuaro')\n",
    "print(lista)"
   ]
  },
  {
   "cell_type": "code",
   "execution_count": 54,
   "metadata": {
    "collapsed": false
   },
   "outputs": [
    {
     "name": "stdout",
     "output_type": "stream",
     "text": [
      "['Parangaricutirimicuaro', 'Hola2', 'Hola', 40, 'simulación', 'dinosaurio', 'Parangaricutirimicuaro']\n"
     ]
    }
   ],
   "source": [
    "# lista.insert(i, elemento): inserta elemento en la posición i.\n",
    "lista.insert(0, 'Parangaricutirimicuaro')\n",
    "print(lista)"
   ]
  },
  {
   "cell_type": "code",
   "execution_count": 60,
   "metadata": {
    "collapsed": false
   },
   "outputs": [
    {
     "name": "stdout",
     "output_type": "stream",
     "text": [
      "['Parangaricutirimicuaro', 'Hola2', 'Hola', 'simulación', 'dinosaurio', 'Parangaricutirimicuaro', 'hey', 'nada', 'Pepe', 62, (3, 2, 1), 'Pepe', 62, (3, 2, 1), 'Pepe', 62, (3, 2, 1)]\n"
     ]
    }
   ],
   "source": [
    "# lista.extend(lista2): Fusiona lista con lista2.\n",
    "lista.extend(lista2)\n",
    "print(lista)"
   ]
  },
  {
   "cell_type": "code",
   "execution_count": 63,
   "metadata": {
    "collapsed": false
   },
   "outputs": [
    {
     "name": "stdout",
     "output_type": "stream",
     "text": [
      "['Hola2', 'Hola', 'simulación', 'dinosaurio', 'Parangaricutirimicuaro', 'hey', 'nada', 'Pepe', 62, (3, 2, 1), 'Pepe', 62, (3, 2, 1), 'Pepe', 62, (3, 2, 1)]\n"
     ]
    }
   ],
   "source": [
    "# lista.remove(elemento): Elimina la primera vez que aparece elemento.\n",
    "lista.remove('Parangaricutirimicuaro')\n",
    "print(lista)"
   ]
  },
  {
   "cell_type": "markdown",
   "metadata": {},
   "source": [
    "## Operaciones más habituales con diccionarios en Python."
   ]
  },
  {
   "cell_type": "code",
   "execution_count": 98,
   "metadata": {
    "collapsed": false
   },
   "outputs": [
    {
     "name": "stdout",
     "output_type": "stream",
     "text": [
      "{'jugador1': 'Messi', 'jugador3': 'Chicharito', 'jugador2': 'Cristiano', 'jugador4': 'Neymar'}\n"
     ]
    }
   ],
   "source": [
    "# Diccionarios con los que voy a trabajar.\n",
    "diccionario = {'jugador1': 'Messi', 'jugador2': 'Cristiano', 'jugador3': 'Chicharito', 'jugador4': 'Neymar'}\n",
    "print(diccionario)"
   ]
  },
  {
   "cell_type": "code",
   "execution_count": 99,
   "metadata": {
    "collapsed": false
   },
   "outputs": [
    {
     "data": {
      "text/plain": [
       "'Chicharito'"
      ]
     },
     "execution_count": 99,
     "metadata": {},
     "output_type": "execute_result"
    }
   ],
   "source": [
    "# diccionario.get(‘key’): Devuelve el valor que corresponde con la key introducida.\n",
    "diccionario.get('jugador3')"
   ]
  },
  {
   "cell_type": "code",
   "execution_count": 100,
   "metadata": {
    "collapsed": false
   },
   "outputs": [
    {
     "name": "stdout",
     "output_type": "stream",
     "text": [
      "{'jugador1': 'Messi', 'jugador3': 'Chicharito', 'jugador2': 'Cristiano'}\n"
     ]
    }
   ],
   "source": [
    "# diccionario.pop(‘key’): Devuelve el valor que corresponde con la key introducida, y luego borra la key y el valor.\n",
    "diccionario.pop('jugador4')\n",
    "print(diccionario)"
   ]
  },
  {
   "cell_type": "code",
   "execution_count": 101,
   "metadata": {
    "collapsed": false
   },
   "outputs": [
    {
     "data": {
      "text/plain": [
       "False"
      ]
     },
     "execution_count": 101,
     "metadata": {},
     "output_type": "execute_result"
    }
   ],
   "source": [
    "# “key” in diccionario: Devuelve verdadero (True) o falso (False) si la key (no los valores) existe en el diccionario.\n",
    "'jugador1' in diccionario\n",
    "'jugador5' in diccionario"
   ]
  },
  {
   "cell_type": "code",
   "execution_count": 102,
   "metadata": {
    "collapsed": false
   },
   "outputs": [
    {
     "data": {
      "text/plain": [
       "True"
      ]
     },
     "execution_count": 102,
     "metadata": {},
     "output_type": "execute_result"
    }
   ],
   "source": [
    "# “definicion” in diccionario.values(): Devuelve verdadero (True) o falso (False) si definición existe en el diccionario (no como key).\n",
    "'Messi' in diccionario.values()"
   ]
  },
  {
   "cell_type": "code",
   "execution_count": 103,
   "metadata": {
    "collapsed": false
   },
   "outputs": [
    {
     "data": {
      "text/plain": [
       "dict_keys(['jugador1', 'jugador3', 'jugador2'])"
      ]
     },
     "execution_count": 103,
     "metadata": {},
     "output_type": "execute_result"
    }
   ],
   "source": [
    "# diccionario.keys(): Devuelve todas las palabras keys del diccionario.\n",
    "diccionario.keys()"
   ]
  },
  {
   "cell_type": "code",
   "execution_count": 104,
   "metadata": {
    "collapsed": false
   },
   "outputs": [
    {
     "data": {
      "text/plain": [
       "dict_values(['Messi', 'Chicharito', 'Cristiano'])"
      ]
     },
     "execution_count": 104,
     "metadata": {},
     "output_type": "execute_result"
    }
   ],
   "source": [
    "# diccionario.values(): Devuelve todos los values de todas las palabras keys del diccionario.\n",
    "diccionario.values()"
   ]
  },
  {
   "cell_type": "code",
   "execution_count": null,
   "metadata": {
    "collapsed": true
   },
   "outputs": [],
   "source": []
  }
 ],
 "metadata": {
  "anaconda-cloud": {},
  "kernelspec": {
   "display_name": "Python [conda root]",
   "language": "python",
   "name": "conda-root-py"
  },
  "language_info": {
   "codemirror_mode": {
    "name": "ipython",
    "version": 3
   },
   "file_extension": ".py",
   "mimetype": "text/x-python",
   "name": "python",
   "nbconvert_exporter": "python",
   "pygments_lexer": "ipython3",
   "version": "3.5.2"
  }
 },
 "nbformat": 4,
 "nbformat_minor": 1
}
