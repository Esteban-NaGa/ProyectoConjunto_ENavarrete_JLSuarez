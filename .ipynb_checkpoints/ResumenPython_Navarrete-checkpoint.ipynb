{
 "cells": [
  {
   "cell_type": "markdown",
   "metadata": {},
   "source": [
    "## Resumen Sintaxis básica de Python\n",
    "\n",
    "### Alumno: Esteban Navarrete Garrido"
   ]
  },
  {
   "cell_type": "markdown",
   "metadata": {},
   "source": [
    "#### 1- Interactive Mode Programming"
   ]
  },
  {
   "cell_type": "code",
   "execution_count": 22,
   "metadata": {
    "collapsed": false
   },
   "outputs": [
    {
     "name": "stdout",
     "output_type": "stream",
     "text": [
      "Roger Federer es el mejor tenista de todos los tiempos\n"
     ]
    }
   ],
   "source": [
    "print (\"Roger Federer es el mejor tenista de todos los tiempos\")"
   ]
  },
  {
   "cell_type": "markdown",
   "metadata": {},
   "source": [
    "#### 2- Lines and Indentation"
   ]
  },
  {
   "cell_type": "code",
   "execution_count": 23,
   "metadata": {
    "collapsed": false
   },
   "outputs": [
    {
     "name": "stdout",
     "output_type": "stream",
     "text": [
      "Estamos en el tiempo 0\n",
      "Estamos en el tiempo 1\n",
      "Estamos en el tiempo 2\n",
      "Estamos en el tiempo 3\n",
      "Estamos en el tiempo 4\n"
     ]
    }
   ],
   "source": [
    "for x in range(0, 5):\n",
    "    print (\"Estamos en el tiempo %d\"%(x))"
   ]
  },
  {
   "cell_type": "markdown",
   "metadata": {},
   "source": [
    "#### 3- Multi-Line Statements"
   ]
  },
  {
   "cell_type": "code",
   "execution_count": 24,
   "metadata": {
    "collapsed": false
   },
   "outputs": [],
   "source": [
    "meses = ['enero', 'febrero', 'marzo', 'abril', 'mayo', 'junio', 'julio',\n",
    "        'agosto', 'septiembre', 'octubre', 'noviembre', 'diciembre']"
   ]
  },
  {
   "cell_type": "markdown",
   "metadata": {},
   "source": [
    "En el siguiente comando aparecerá \"febrero\":"
   ]
  },
  {
   "cell_type": "code",
   "execution_count": 25,
   "metadata": {
    "collapsed": false
   },
   "outputs": [
    {
     "data": {
      "text/plain": [
       "'febrero'"
      ]
     },
     "execution_count": 25,
     "metadata": {},
     "output_type": "execute_result"
    }
   ],
   "source": [
    "meses[1]"
   ]
  },
  {
   "cell_type": "markdown",
   "metadata": {},
   "source": [
    "#### 4- Quotation in Python"
   ]
  },
  {
   "cell_type": "markdown",
   "metadata": {},
   "source": [
    "Podemos usar comillas simples, dobles o triples por igual para denotar una cadena de literales"
   ]
  },
  {
   "cell_type": "code",
   "execution_count": 26,
   "metadata": {
    "collapsed": false
   },
   "outputs": [
    {
     "name": "stdout",
     "output_type": "stream",
     "text": [
      "La manzana es una fruta\n",
      "La pera también es una fruta\n",
      "La sandía de igual forma es una fruta\n"
     ]
    }
   ],
   "source": [
    "Manzana = 'La manzana es una fruta'\n",
    "Pera = \"La pera también es una fruta\"\n",
    "Sandia = '''La sandía de igual forma es una fruta'''\n",
    "\n",
    "print(Manzana)\n",
    "print(Pera)\n",
    "print(Sandia)"
   ]
  },
  {
   "cell_type": "markdown",
   "metadata": {},
   "source": [
    "#### 5- Comments in Python"
   ]
  },
  {
   "cell_type": "code",
   "execution_count": 28,
   "metadata": {
    "collapsed": false
   },
   "outputs": [
    {
     "name": "stdout",
     "output_type": "stream",
     "text": [
      "Introduce un numero chavo:2\n",
      "X no es 1 chavo\n"
     ]
    }
   ],
   "source": [
    "#Hola a todos este es un comentario en Python y no afecta en absoluto al código\n",
    "\n",
    "x = int(input(\"Introduce un numero chavo:\"))\n",
    "if x == 1:\n",
    "    print(\"Muy bien chavo, X es 1\")\n",
    "else:\n",
    "    print(\"X no es 1 chavo\")"
   ]
  },
  {
   "cell_type": "markdown",
   "metadata": {},
   "source": [
    "#### 6- Using Blank Lines"
   ]
  },
  {
   "cell_type": "code",
   "execution_count": 29,
   "metadata": {
    "collapsed": false
   },
   "outputs": [
    {
     "name": "stdout",
     "output_type": "stream",
     "text": [
      "Perro\n",
      "gato\n"
     ]
    }
   ],
   "source": [
    "#Las líneas en blanco no le afetan a Python\n",
    "x='Perro'\n",
    "print(x)\n",
    "\n",
    "y='gato'\n",
    "print(y)"
   ]
  },
  {
   "cell_type": "markdown",
   "metadata": {},
   "source": [
    "#### 7- Waiting user"
   ]
  },
  {
   "cell_type": "code",
   "execution_count": 30,
   "metadata": {
    "collapsed": false
   },
   "outputs": [
    {
     "name": "stdout",
     "output_type": "stream",
     "text": [
      "Introduce tu fruta favorita: Manzana\n",
      "Tu fruta favorita es la: Manzana\n"
     ]
    }
   ],
   "source": [
    "#Como hicimos en los ejemplos anteriores con un input esperamos al usuario a que emita una accion\n",
    "fruta = input('Introduce tu fruta favorita: ')\n",
    "print('Tu fruta favorita es la:',fruta)"
   ]
  },
  {
   "cell_type": "markdown",
   "metadata": {},
   "source": [
    "#### 8- Multiple Statements on a Single Line"
   ]
  },
  {
   "cell_type": "code",
   "execution_count": 31,
   "metadata": {
    "collapsed": false
   },
   "outputs": [
    {
     "name": "stdout",
     "output_type": "stream",
     "text": [
      "5\n",
      "10\n",
      "15\n"
     ]
    }
   ],
   "source": [
    "#Con el punto y coma \";\" podemos hacer varias cosas en una linea\n",
    "x=5; y=10; z=15\n",
    "print(x); print(y); print(z)"
   ]
  },
  {
   "cell_type": "markdown",
   "metadata": {},
   "source": [
    "#### 9- Multiple Statement Groups as Suites"
   ]
  },
  {
   "cell_type": "code",
   "execution_count": 32,
   "metadata": {
    "collapsed": false
   },
   "outputs": [
    {
     "name": "stdout",
     "output_type": "stream",
     "text": [
      "0\n",
      "1\n",
      "2\n",
      "3\n",
      "4\n",
      "5\n",
      "6\n"
     ]
    }
   ],
   "source": [
    "for i in range(7):\n",
    "    print(i)"
   ]
  },
  {
   "cell_type": "markdown",
   "metadata": {},
   "source": [
    "#### 10- Command Line arguments"
   ]
  },
  {
   "cell_type": "code",
   "execution_count": 21,
   "metadata": {
    "collapsed": true
   },
   "outputs": [],
   "source": [
    "#No entendí este punto"
   ]
  },
  {
   "cell_type": "code",
   "execution_count": null,
   "metadata": {
    "collapsed": true
   },
   "outputs": [],
   "source": []
  }
 ],
 "metadata": {
  "anaconda-cloud": {},
  "kernelspec": {
   "display_name": "Python [conda root]",
   "language": "python",
   "name": "conda-root-py"
  },
  "language_info": {
   "codemirror_mode": {
    "name": "ipython",
    "version": 3
   },
   "file_extension": ".py",
   "mimetype": "text/x-python",
   "name": "python",
   "nbconvert_exporter": "python",
   "pygments_lexer": "ipython3",
   "version": "3.5.2"
  }
 },
 "nbformat": 4,
 "nbformat_minor": 1
}
