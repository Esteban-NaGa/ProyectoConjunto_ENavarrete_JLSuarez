{
 "cells": [
  {
   "cell_type": "markdown",
   "metadata": {},
   "source": [
    "# Expectativas del curso Simulación de Procesos Financieros\n",
    "\n",
    "### Alumnos:\n",
    "### Esteban Navarrete Garrido\n",
    "### José Luis Suárez de Alba"
   ]
  },
  {
   "cell_type": "markdown",
   "metadata": {
    "collapsed": true
   },
   "source": [
    "### Expectativas de la clase:\n",
    "\n",
    "* Esperamos que todo lo aprendido respecto a programación en cursos pasados por fin lo podamos aplicar a las finanzas.\n",
    "* Aprender nuevos métodos para pronosticar los movimientos de los mercados.\n",
    "* Aprender a hacer simulaciones.\n",
    "* Saber más sobre los intrumentos financieros que existen.\n",
    "* Aprender a programar mejor.\n",
    "\n",
    "### Cada clase de programación ha sido muy diferente y esperamos sacar el mejor provecho de ésta.\n"
   ]
  },
  {
   "cell_type": "markdown",
   "metadata": {},
   "source": [
    "#### Agregar imágenes en un notebook de Jupyter es una de sus grandes ventajas respecto a otros programas:\n",
    "\n",
    "<img src= \"https://turistium.com/wp-content/uploads/2017/12/expectativas2.turisistium.jpg\" />"
   ]
  },
  {
   "cell_type": "markdown",
   "metadata": {},
   "source": [
    "#### Latex es una gran ventaja de Jupyter\n",
    "\n",
    "A continuación veremos un uso muy básico mostrando algunas ecuaciones:"
   ]
  },
  {
   "cell_type": "markdown",
   "metadata": {},
   "source": [
    "Ecuación de Calor específico:\n",
    "\n",
    "$$ \\mathbf{Q}=\\mathbf{m}\\cdot\\mathbf{c}_m\\cdot\\nabla\\mathbf{t}$$ \n",
    "$$ \\mathbf{Q}=\\mathbf{m}\\cdot\\mathbf{L}_e$$ "
   ]
  },
  {
   "cell_type": "markdown",
   "metadata": {},
   "source": [
    "#### Hacer tablas es otra cosa extramadamente sencilla de Jupyter con markdown:"
   ]
  },
  {
   "cell_type": "markdown",
   "metadata": {},
   "source": [
    "|Ciudad     |Habitantes|\n",
    "|-----------|----------|\n",
    "|Guadalajara|1,495,000 |\n",
    "|Zapopan    |1,142,000 |\n",
    "|Tlaquepaque|575,942   |\n",
    "|Total      |3212942   |"
   ]
  },
  {
   "cell_type": "code",
   "execution_count": null,
   "metadata": {
    "collapsed": true
   },
   "outputs": [],
   "source": []
  }
 ],
 "metadata": {
  "anaconda-cloud": {},
  "kernelspec": {
   "display_name": "Python [conda root]",
   "language": "python",
   "name": "conda-root-py"
  },
  "language_info": {
   "codemirror_mode": {
    "name": "ipython",
    "version": 3
   },
   "file_extension": ".py",
   "mimetype": "text/x-python",
   "name": "python",
   "nbconvert_exporter": "python",
   "pygments_lexer": "ipython3",
   "version": "3.5.2"
  }
 },
 "nbformat": 4,
 "nbformat_minor": 1
}
